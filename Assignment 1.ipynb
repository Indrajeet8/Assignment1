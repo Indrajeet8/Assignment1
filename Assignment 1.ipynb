{
 "cells": [
  {
   "cell_type": "code",
   "execution_count": null,
   "id": "11197cb6-de60-4bff-8125-b65b88eea02f",
   "metadata": {},
   "outputs": [],
   "source": [
    "Assignment 1"
   ]
  },
  {
   "cell_type": "code",
   "execution_count": null,
   "id": "e5b0944e-85b0-4974-a79e-cc5fed32d396",
   "metadata": {},
   "outputs": [],
   "source": [
    "Ques.1 Who developed python programming langauge"
   ]
  },
  {
   "cell_type": "code",
   "execution_count": null,
   "id": "64a05a4b-7e3a-4c00-86a2-1cc04789ac00",
   "metadata": {},
   "outputs": [],
   "source": [
    "Python was created by Guido van Rossum, and first released on February 20, 1991. While you may know the python as a large snake, the name of the Python programming language comes from an old BBC television comedy sketch series called Monty Python's Flying Circus."
   ]
  },
  {
   "cell_type": "code",
   "execution_count": null,
   "id": "ba0fbb5d-8c00-40ef-852c-cc8727f478a4",
   "metadata": {},
   "outputs": [],
   "source": [
    "Ques-2"
   ]
  },
  {
   "cell_type": "code",
   "execution_count": null,
   "id": "55002680-6feb-4c3b-b19c-ccaad63b4128",
   "metadata": {},
   "outputs": [],
   "source": [
    "Generics is not a supported data type."
   ]
  },
  {
   "cell_type": "code",
   "execution_count": null,
   "id": "83fd9827-328b-463f-8257-0fd3f49363e8",
   "metadata": {},
   "outputs": [],
   "source": [
    "Ques-3"
   ]
  },
  {
   "cell_type": "code",
   "execution_count": null,
   "id": "94078571-feae-4a6b-b8c3-7e54829f0526",
   "metadata": {},
   "outputs": [],
   "source": [
    "Yes, Python is a case-sensitive language,"
   ]
  },
  {
   "cell_type": "code",
   "execution_count": null,
   "id": "4baafdd1-336e-4314-bb61-59d790235d80",
   "metadata": {},
   "outputs": [],
   "source": [
    "ques- 4"
   ]
  },
  {
   "cell_type": "code",
   "execution_count": null,
   "id": "95358986-582d-49a3-8efe-6c6ae145db4a",
   "metadata": {},
   "outputs": [],
   "source": [
    "Python is a widely used  coding language used for different purposes. The extensions for Python files are - . py, . pyi, "
   ]
  },
  {
   "cell_type": "code",
   "execution_count": null,
   "id": "cd053ea8-40f3-4d6c-9b2a-9c60052fec82",
   "metadata": {},
   "outputs": [],
   "source": [
    "Ques-5"
   ]
  },
  {
   "cell_type": "code",
   "execution_count": null,
   "id": "ac39922c-ed9e-4939-a509-6221153b88db",
   "metadata": {},
   "outputs": [],
   "source": [
    "Python is an interpreted language,"
   ]
  },
  {
   "cell_type": "code",
   "execution_count": null,
   "id": "17dd8746-63f1-4e38-892f-7578f9a79ca0",
   "metadata": {},
   "outputs": [],
   "source": [
    "Ques- 6"
   ]
  },
  {
   "cell_type": "code",
   "execution_count": null,
   "id": "61b4dd11-490b-4da1-b5cf-6a742a535b7e",
   "metadata": {},
   "outputs": [],
   "source": [
    "a module, a function body, and a class definition"
   ]
  },
  {
   "cell_type": "code",
   "execution_count": null,
   "id": "f203a3e0-f910-4a56-be45-478277e5c433",
   "metadata": {},
   "outputs": [],
   "source": [
    "ques- 7 "
   ]
  },
  {
   "cell_type": "code",
   "execution_count": null,
   "id": "3b39528d-7ed8-4186-9514-bde8fe7b1b22",
   "metadata": {},
   "outputs": [],
   "source": [
    " # character is used to start a comment"
   ]
  },
  {
   "cell_type": "code",
   "execution_count": null,
   "id": "999a860c-b91d-4121-8dd7-bc041693e6b3",
   "metadata": {},
   "outputs": [],
   "source": [
    "Ques-8"
   ]
  },
  {
   "cell_type": "code",
   "execution_count": null,
   "id": "86966828-e0e9-415e-b959-6a36b9713a4f",
   "metadata": {},
   "outputs": [],
   "source": [
    "Python 3.10. 8, documentation released on 8 October 2022"
   ]
  },
  {
   "cell_type": "code",
   "execution_count": null,
   "id": "bf75525c-a98e-4fb1-8f31-c6bb04f3eced",
   "metadata": {},
   "outputs": [],
   "source": [
    "Ques-9"
   ]
  },
  {
   "cell_type": "code",
   "execution_count": null,
   "id": "b4f3f22c-2245-4113-aeaa-d3a444da09f2",
   "metadata": {},
   "outputs": [],
   "source": [
    "lambda."
   ]
  },
  {
   "cell_type": "code",
   "execution_count": null,
   "id": "a760cf86-74db-42f8-b662-4f8ae4a55f56",
   "metadata": {},
   "outputs": [],
   "source": [
    "Ques-10"
   ]
  },
  {
   "cell_type": "code",
   "execution_count": null,
   "id": "b2a00747-ba6d-4a8b-9f3f-2b8b9f944841",
   "metadata": {},
   "outputs": [],
   "source": [
    "preferred installer program"
   ]
  },
  {
   "cell_type": "code",
   "execution_count": null,
   "id": "9b74e5fd-1a97-44d0-b3db-afd3daf93292",
   "metadata": {},
   "outputs": [],
   "source": [
    "Ques 11"
   ]
  },
  {
   "cell_type": "code",
   "execution_count": null,
   "id": "2ee3750f-b784-4b7d-896b-6e3189c50ea2",
   "metadata": {},
   "outputs": [],
   "source": [
    "executed , complex()"
   ]
  },
  {
   "cell_type": "code",
   "execution_count": null,
   "id": "0cadff28-22b6-41e1-bc4e-0390d73ffdb4",
   "metadata": {},
   "outputs": [],
   "source": [
    "Ques - 12"
   ]
  },
  {
   "cell_type": "code",
   "execution_count": null,
   "id": "b4a6547a-5211-4eee-a7d8-0f3efeb21937",
   "metadata": {},
   "outputs": [],
   "source": [
    "An identifier can have a maximum length of 79 characters in Python."
   ]
  },
  {
   "cell_type": "code",
   "execution_count": null,
   "id": "d45310ea-1b2d-4d9e-b8dc-c46a80b5553a",
   "metadata": {},
   "outputs": [],
   "source": [
    "Ques-13"
   ]
  },
  {
   "cell_type": "code",
   "execution_count": null,
   "id": "8e972539-7c47-4ac7-87bc-acf7d1a6d66b",
   "metadata": {},
   "outputs": [],
   "source": [
    "Computer graphics.\n",
    "Data science.\n",
    "Web development.\n",
    "Scientific and mathematical computing."
   ]
  },
  {
   "cell_type": "code",
   "execution_count": null,
   "id": "860eaa86-a1f0-4a57-9c64-aebcaaf0c36b",
   "metadata": {},
   "outputs": [],
   "source": [
    "Ques -14"
   ]
  },
  {
   "cell_type": "code",
   "execution_count": null,
   "id": "f1b1cc57-6c20-450f-98fd-c6b32a383099",
   "metadata": {},
   "outputs": [],
   "source": [
    "the management of this private heap is ensured internally by the Python memory manager."
   ]
  },
  {
   "cell_type": "code",
   "execution_count": null,
   "id": "348bc347-16e1-4997-939d-25f03fed3244",
   "metadata": {},
   "outputs": [],
   "source": [
    "Ques-16"
   ]
  },
  {
   "cell_type": "code",
   "execution_count": null,
   "id": "4285cb07-5b0c-475e-8d65-e71071768742",
   "metadata": {},
   "outputs": [],
   "source": [
    "spaces at the beginning of a code line"
   ]
  }
 ],
 "metadata": {
  "kernelspec": {
   "display_name": "Python 3 (ipykernel)",
   "language": "python",
   "name": "python3"
  },
  "language_info": {
   "codemirror_mode": {
    "name": "ipython",
    "version": 3
   },
   "file_extension": ".py",
   "mimetype": "text/x-python",
   "name": "python",
   "nbconvert_exporter": "python",
   "pygments_lexer": "ipython3",
   "version": "3.10.8"
  }
 },
 "nbformat": 4,
 "nbformat_minor": 5
}
